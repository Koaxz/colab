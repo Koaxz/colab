{
  "nbformat": 4,
  "nbformat_minor": 0,
  "metadata": {
    "colab": {
      "provenance": [],
      "gpuType": "T4",
      "include_colab_link": true
    },
    "kernelspec": {
      "name": "python3",
      "display_name": "Python 3"
    },
    "language_info": {
      "name": "python"
    },
    "accelerator": "GPU"
  },
  "cells": [
    {
      "cell_type": "markdown",
      "metadata": {
        "id": "view-in-github",
        "colab_type": "text"
      },
      "source": [
        "<a href=\"https://colab.research.google.com/github/Koaxz/colab/blob/1/whisper_notebook.ipynb\" target=\"_parent\"><img src=\"https://colab.research.google.com/assets/colab-badge.svg\" alt=\"Open In Colab\"/></a>"
      ]
    },
    {
      "cell_type": "markdown",
      "source": [
        "# Whisper v3 is here!\n",
        "\n",
        "Whisper v3 is a new model open sourced by OpenAI. The model can do multilingual transcriptions and is quite impressive. For example, you can change from English to Spanish or Chinese in the middle of a sentence and it will work well!\n",
        "\n",
        "The model can be run in a free Google Colab instance and is integrated into `transformers` already, so switching can be a very smooth process if you already use the previous versions."
      ],
      "metadata": {
        "id": "OXaUqiE-eyXM"
      }
    },
    {
      "cell_type": "code",
      "execution_count": null,
      "metadata": {
        "id": "WFQeUT9EcIcK"
      },
      "outputs": [],
      "source": [
        "%%capture\n",
        "!pip install git+https://github.com/huggingface/transformers gradio"
      ]
    },
    {
      "cell_type": "markdown",
      "source": [
        "Let's use the high level `pipeline` from the `transformers` library to load the model."
      ],
      "metadata": {
        "id": "sZONes21fHTA"
      }
    },
    {
      "cell_type": "code",
      "source": [
        "import torch\n",
        "from transformers import pipeline\n",
        "\n",
        "pipe = pipeline(\"automatic-speech-recognition\",\n",
        "               \"openai/whisper-large-v3\",\n",
        "               torch_dtype=torch.float16,\n",
        "               device=\"cuda:0\")"
      ],
      "metadata": {
        "id": "DvBdwMdPcr-Y"
      },
      "execution_count": null,
      "outputs": []
    },
    {
      "cell_type": "code",
      "source": [
        "pipe(\"https://cdn-media.huggingface.co/speech_samples/sample1.flac\")"
      ],
      "metadata": {
        "id": "GZFkIyhjc0Nc"
      },
      "execution_count": null,
      "outputs": []
    },
    {
      "cell_type": "markdown",
      "source": [
        "Let's now build a quick Gradio demo where we can play with the model directly using our microphone! You can run this code in a Google Colab instance (or locally!) or just head to the <a href=\"https://huggingface.co/spaces/hf-audio/whisper-large-v3\" target=\"_blank\">Space</a> to play directly with it online."
      ],
      "metadata": {
        "id": "pt3YtM_PfTQY"
      }
    },
    {
      "cell_type": "code",
      "source": [
        "import gradio as gr\n",
        "\n",
        "def transcribe(inputs):\n",
        "    if inputs is None:\n",
        "        raise gr.Error(\"No audio file submitted! Please record an audio before submitting your request.\")\n",
        "\n",
        "    text = pipe(inputs, generate_kwargs={\"task\": \"transcribe\"}, return_timestamps=True)[\"text\"]\n",
        "    return text\n",
        "\n",
        "demo = gr.Interface(\n",
        "    fn=transcribe,\n",
        "    inputs=[\n",
        "        gr.Audio(sources=[\"microphone\", \"upload\"], type=\"filepath\"),\n",
        "    ],\n",
        "    outputs=\"text\",\n",
        "    title=\"Whisper Large V3: Transcribe Audio\",\n",
        "    description=(\n",
        "        \"Transcribe long-form microphone or audio inputs with the click of a button! Demo uses the\"\n",
        "        \" checkpoint [openai/whisper-large-v3](https://huggingface.co/openai/whisper-large-v3) and 🤗 Transformers to transcribe audio files\"\n",
        "        \" of arbitrary length.\"\n",
        "    ),\n",
        "    allow_flagging=\"never\",\n",
        ")\n",
        "\n",
        "demo.launch()\n"
      ],
      "metadata": {
        "id": "K0b2UZLVdIze"
      },
      "execution_count": null,
      "outputs": []
    }
  ]
}