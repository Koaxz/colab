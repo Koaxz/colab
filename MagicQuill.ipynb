{
  "nbformat": 4,
  "nbformat_minor": 0,
  "metadata": {
    "colab": {
      "provenance": [],
      "authorship_tag": "ABX9TyPfn931/2D/WJECk5siw9RC",
      "include_colab_link": true
    },
    "kernelspec": {
      "name": "python3",
      "display_name": "Python 3"
    },
    "language_info": {
      "name": "python"
    }
  },
  "cells": [
    {
      "cell_type": "markdown",
      "metadata": {
        "id": "view-in-github",
        "colab_type": "text"
      },
      "source": [
        "<a href=\"https://colab.research.google.com/github/Koaxz/colab/blob/1/MagicQuill.ipynb\" target=\"_parent\"><img src=\"https://colab.research.google.com/assets/colab-badge.svg\" alt=\"Open In Colab\"/></a>"
      ]
    },
    {
      "cell_type": "code",
      "execution_count": 1,
      "metadata": {
        "colab": {
          "base_uri": "https://localhost:8080/"
        },
        "id": "zVaouv6UCVuT",
        "outputId": "4e80a9c6-8649-407b-cc9c-f928f3d8cf4a"
      },
      "outputs": [
        {
          "output_type": "stream",
          "name": "stdout",
          "text": [
            "Cloning into 'MagicQuill'...\n",
            "remote: Enumerating objects: 324, done.\u001b[K\n",
            "remote: Counting objects: 100% (50/50), done.\u001b[K\n",
            "remote: Compressing objects: 100% (41/41), done.\u001b[K\n",
            "remote: Total 324 (delta 25), reused 14 (delta 9), pack-reused 274 (from 1)\u001b[K\n",
            "Receiving objects: 100% (324/324), 43.36 MiB | 20.48 MiB/s, done.\n",
            "Resolving deltas: 100% (55/55), done.\n",
            "Submodule 'MagicQuill/LLaVA' (https://github.com/haotian-liu/LLaVA.git) registered for path 'MagicQuill/LLaVA'\n",
            "Cloning into '/content/MagicQuill/MagicQuill/LLaVA'...\n",
            "remote: Enumerating objects: 2297, done.        \n",
            "remote: Total 2297 (delta 0), reused 0 (delta 0), pack-reused 2297 (from 1)        \n",
            "Receiving objects: 100% (2297/2297), 13.71 MiB | 7.44 MiB/s, done.\n",
            "Resolving deltas: 100% (1404/1404), done.\n",
            "Submodule path 'MagicQuill/LLaVA': checked out 'c121f0432da27facab705978f83c4ada465e46fd'\n",
            "/content/MagicQuill\n"
          ]
        }
      ],
      "source": [
        "!git clone --recursive https://github.com/magic-quill/MagicQuill.git\n",
        "%cd MagicQuill"
      ]
    },
    {
      "cell_type": "code",
      "source": [
        "!wget -O models.zip \"https://hkustconnect-my.sharepoint.com/:u:/g/personal/zliucz_connect_ust_hk/EWlGF0WfawJIrJ1Hn85_-3gB0MtwImAnYeWXuleVQcukMg?e=Gcjugg&download=1\"\n",
        "!unzip models.zip"
      ],
      "metadata": {
        "colab": {
          "base_uri": "https://localhost:8080/"
        },
        "id": "pAo99KKfCWsG",
        "outputId": "50415d92-d432-49f6-8848-40ad42872312"
      },
      "execution_count": null,
      "outputs": [
        {
          "output_type": "stream",
          "name": "stdout",
          "text": [
            "--2024-11-17 07:33:01--  https://hkustconnect-my.sharepoint.com/:u:/g/personal/zliucz_connect_ust_hk/EWlGF0WfawJIrJ1Hn85_-3gB0MtwImAnYeWXuleVQcukMg?e=Gcjugg&download=1\n",
            "Resolving hkustconnect-my.sharepoint.com (hkustconnect-my.sharepoint.com)... 13.107.136.10, 13.107.138.10, 2620:1ec:8f8::10, ...\n",
            "Connecting to hkustconnect-my.sharepoint.com (hkustconnect-my.sharepoint.com)|13.107.136.10|:443... connected.\n",
            "HTTP request sent, awaiting response... 302 Found\n",
            "Location: /personal/zliucz_connect_ust_hk/Documents/HKUST-PhD/CVPR%202025/models.zip?ga=1 [following]\n",
            "--2024-11-17 07:33:02--  https://hkustconnect-my.sharepoint.com/personal/zliucz_connect_ust_hk/Documents/HKUST-PhD/CVPR%202025/models.zip?ga=1\n",
            "Reusing existing connection to hkustconnect-my.sharepoint.com:443.\n",
            "HTTP request sent, awaiting response... 200 OK\n",
            "Length: 29602722045 (28G) [application/x-zip-compressed]\n",
            "Saving to: ‘models.zip’\n",
            "\n",
            "models.zip           67%[============>       ]  18.56G  78.3MB/s    eta 3m 14s "
          ]
        }
      ]
    },
    {
      "cell_type": "code",
      "source": [
        "!pip install gradio_magicquill-0.0.1-py3-none-any.whl\n",
        "!cp -f pyproject.toml LLaVA/\n",
        "!pip install -e LLaVA/\n",
        "!pip install -r requirements.txt"
      ],
      "metadata": {
        "id": "YOhxkSj0CYGd"
      },
      "execution_count": null,
      "outputs": []
    },
    {
      "cell_type": "code",
      "source": [
        "import os\n",
        "os.environ[\"CUDA_VISIBLE_DEVICES\"] = \"0\"\n",
        "!python gradio_run.py"
      ],
      "metadata": {
        "id": "wdJjA1TxCZqf"
      },
      "execution_count": null,
      "outputs": []
    }
  ]
}